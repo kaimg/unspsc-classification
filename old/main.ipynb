{
 "cells": [
  {
   "cell_type": "code",
   "execution_count": null,
   "metadata": {},
   "outputs": [
    {
     "ename": "",
     "evalue": "",
     "output_type": "error",
     "traceback": [
      "\u001b[1;31mRunning cells with '.venv (Python 3.12.9)' requires the ipykernel package.\n",
      "\u001b[1;31mRun the following command to install 'ipykernel' into the Python environment. \n",
      "\u001b[1;31mCommand: '/home/kaimg/Documents/p3/kamran/.venv/bin/python -m pip install ipykernel -U --force-reinstall'"
     ]
    }
   ],
   "source": [
    "import polars as pl"
   ]
  },
  {
   "cell_type": "code",
   "execution_count": null,
   "metadata": {},
   "outputs": [],
   "source": [
    "UNSPSC_DATA_PATH = \"../data/UNSPSC English v260801.xlsx\""
   ]
  },
  {
   "cell_type": "code",
   "execution_count": null,
   "metadata": {},
   "outputs": [],
   "source": [
    "df = pl.read_excel(UNSPSC_DATA_PATH, read_options={\"header_row\": 12})"
   ]
  },
  {
   "cell_type": "code",
   "execution_count": null,
   "metadata": {},
   "outputs": [],
   "source": [
    "df = df.drop(\"Synonym\", \"Acronym\", \"Version\", \"Key\")"
   ]
  },
  {
   "cell_type": "code",
   "execution_count": null,
   "metadata": {},
   "outputs": [],
   "source": [
    "df = df.rename(\n",
    "    {\n",
    "        \"Segment\": \"segment_code\",\n",
    "        \"Segment Title\": \"segment_title\",\n",
    "        \"Segment Definition\": \"segment_definition\",\n",
    "        \"Family\": \"family_code\",\n",
    "        \"Family Title\": \"family_title\",\n",
    "        \"Family Definition\": \"family_definition\",\n",
    "        \"Class\": \"class_code\",\n",
    "        \"Class Title\": \"class_title\",\n",
    "        \"Class Definition\": \"class_definition\",\n",
    "        \"Commodity\": \"commodity_code\",\n",
    "        \"Commodity Title\": \"commodity_title\",\n",
    "        \"Segment Definition\": \"segment_definition\",\n",
    "        \"Family Definition\": \"family_definition\",\n",
    "        \"Class Definition\": \"class_definition\",\n",
    "        \"Commodity Definition\": \"commodity_definition\",\n",
    "    }\n",
    ")"
   ]
  },
  {
   "cell_type": "code",
   "execution_count": null,
   "metadata": {},
   "outputs": [],
   "source": [
    "df.filter(pl.col('segment_code').cast(str).str.starts_with('24'))"
   ]
  },
  {
   "cell_type": "code",
   "execution_count": null,
   "metadata": {},
   "outputs": [],
   "source": [
    "import json\n",
    "dicts = (\n",
    "    df\n",
    "    .filter(\n",
    "        (\n",
    "            pl.col(\"commodity_code\") == 40161513) \n",
    "            | (pl.col(\"commodity_code\") == 40101802) \n",
    "            | (pl.col(\"commodity_code\") == 40141607) \n",
    "            | (pl.col(\"commodity_code\") == 20121301)\n",
    "        )\n",
    "    .to_dicts()\n",
    ")\n",
    "json_lines = \"\\n\".join([json.dumps(d) for d in dicts])\n",
    "with open(\"unspsc_data.json\", \"w\") as f:\n",
    "    f.write(json_lines)\n"
   ]
  },
  {
   "cell_type": "code",
   "execution_count": null,
   "metadata": {},
   "outputs": [],
   "source": [
    "descriptions = [\n",
    "    \"FILTER,CARTRIDGE: WATER SEPARATOR,FUEL,3.866IN ID,4.575IN OD,12.323IN LG,10U,22 TO 24 GPM,98.7%,GLASS/PAPER ELEMENT,1-1/4IN-12 UNS-2B SPIN-ON,SAE J1985,SIZE: 4.736IN OD SEAM,W/ GASKET\",\n",
    "    \"EXCHANGER,HEAT: 2IN,TITANIUM,GASKETED,150PSIG,SINGLE\",\n",
    "    \"VALVE,BALL: 1IN,NPT,FULL PORT BORE,316 STAINLESS STEEL BODY,STAINLESS STEEL STEM,17-4PH STAINLESS STEEL BALL,17-4PH STAINLESS STEEL STEM,HANDLE OPERATED,D2STAINLESS STEELF-GIS,PRESSURE RATING: 3000PSI,SOFTGOODS: PTFE TAILPIECE GASKET,SOFTGOODS: HOMWPOLYMER ACETAL PLASTIC SEAL,SERIES 310\",\n",
    "    \"PLUG,PIPE: TEST,2IN,FLANGE,2-9/16IN,STEEL,GALVANIZED,WING NUT,W/ MOLDED RUBBER GASKET\"\n",
    "]"
   ]
  },
  {
   "cell_type": "code",
   "execution_count": null,
   "metadata": {},
   "outputs": [],
   "source": [
    "import json\n",
    "with open(\"Unspsc_data.json\", \"r\") as f:\n",
    "    data = json.load(f)\n"
   ]
  },
  {
   "cell_type": "code",
   "execution_count": null,
   "metadata": {},
   "outputs": [],
   "source": [
    "print(list(df.sample(10).select(pl.col(\"commodity_definition\")).to_dict().values())[0][0])"
   ]
  },
  {
   "cell_type": "code",
   "execution_count": null,
   "metadata": {},
   "outputs": [],
   "source": [
    "def create_search_text(_row) -> str:\n",
    "    fields = [\n",
    "        _row[\"segment_title\"],\n",
    "        _row[\"segment_definition\"],\n",
    "        _row[\"family_title\"],\n",
    "        _row[\"family_definition\"],\n",
    "        _row[\"class_title\"],\n",
    "        _row[\"class_definition\"],\n",
    "        _row[\"commodity_title\"],\n",
    "        _row[\"commodity_definition\"],\n",
    "    ]\n",
    "    return re.sub(\n",
    "        r\"\\s+\", \" \", \" \".join(str(field) for field in fields if field).strip()\n",
    "    ).lower()\n",
    "\n",
    "\n",
    "df = df.with_columns(\n",
    "    pl.struct(\n",
    "        \"segment_title\",\n",
    "        \"segment_definition\",\n",
    "        \"family_title\",\n",
    "        \"family_definition\",\n",
    "        \"class_title\",\n",
    "        \"class_definition\",\n",
    "        \"commodity_title\",\n",
    "        \"commodity_definition\",\n",
    "    )\n",
    "    .map_elements(lambda x: create_search_text(x), return_dtype=pl.String)\n",
    "    .alias(\"combined_text\")\n",
    ")"
   ]
  },
  {
   "cell_type": "code",
   "execution_count": null,
   "metadata": {},
   "outputs": [],
   "source": [
    "df.filter(pl.col(\"commodity_code\") == 20121301).to_dicts()"
   ]
  },
  {
   "cell_type": "code",
   "execution_count": null,
   "metadata": {},
   "outputs": [],
   "source": []
  }
 ],
 "metadata": {
  "kernelspec": {
   "display_name": ".venv",
   "language": "python",
   "name": "python3"
  },
  "language_info": {
   "codemirror_mode": {
    "name": "ipython",
    "version": 3
   },
   "file_extension": ".py",
   "mimetype": "text/x-python",
   "name": "python",
   "nbconvert_exporter": "python",
   "pygments_lexer": "ipython3",
   "version": "3.12.9"
  }
 },
 "nbformat": 4,
 "nbformat_minor": 2
}
