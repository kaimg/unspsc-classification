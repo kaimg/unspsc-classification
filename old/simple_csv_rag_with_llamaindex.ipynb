{
 "cells": [
  {
   "cell_type": "markdown",
   "metadata": {},
   "source": [
    "### Imports & Environment Variables "
   ]
  },
  {
   "cell_type": "code",
   "execution_count": null,
   "metadata": {},
   "outputs": [],
   "source": [
    "from llama_index.core.readers import SimpleDirectoryReader\n",
    "from llama_index.core import Settings\n",
    "\n",
    "from llama_index.readers.file import PagedCSVReader\n",
    "from llama_index.core.ingestion import IngestionPipeline"
   ]
  },
  {
   "cell_type": "code",
   "execution_count": null,
   "metadata": {},
   "outputs": [],
   "source": [
    "from llama_index.embeddings.huggingface import HuggingFaceEmbedding\n",
    "\n",
    "Settings.embed_model = HuggingFaceEmbedding(model_name=\"BAAI/bge-large-en-v1.5\")"
   ]
  },
  {
   "cell_type": "markdown",
   "metadata": {},
   "source": [
    "### CSV File Structure and Use Case\n",
    "The CSV file contains dummy customer data, comprising various attributes like first name, last name, company, etc. This dataset will be utilized for a RAG use case, facilitating the creation of a customer information Q&A system."
   ]
  },
  {
   "cell_type": "code",
   "execution_count": null,
   "metadata": {},
   "outputs": [],
   "source": [
    "import pandas as pd\n",
    "\n",
    "file_path = ('./data/unspsc_data.csv')\n",
    "data = pd.read_csv(file_path)\n",
    "# data['Segment'] = data['Segment'].astype(\"Int64\")\n",
    "# data['Family'] = data['Family'].astype(\"Int64\")\n",
    "# data['Class'] = data['Class'].astype(\"Int64\")\n",
    "# data['Commodity'] = data['Commodity'].astype(\"Int64\")\n",
    "# data.head()"
   ]
  },
  {
   "cell_type": "code",
   "execution_count": null,
   "metadata": {},
   "outputs": [],
   "source": [
    "def show_hierarchy(commodity_code: str):\n",
    "    \"\"\"\n",
    "    show the hierarchy in pretty format\n",
    "    input: \n",
    "        43000000,Information Technology Broadcasting and Telecommunications,\" communications and computer equipment as well as peripheral input, output and storage devices.  networking equipment and general computer components and supplies such as printers, electronic storage media and connection cables.\",43210000.0,Computer Equipment and Accessories,\"The computer and it's accessories together provide a platform to enable user computing. A computer is a device that accepts information (in the form of digital data) and manipulates it for some result based on a program or sequence of instructions on how data is to be processed. Complex computers also include the means for storing data (including the program, which is also a form of data) for some necessary duration. A program may be invariable and built into the computer (and called logic circuitry as it is on microprocessors) or different programs may be provided to the computer (loaded into its storage and then started by an administrator or user). Today's computers have both kinds of programming.\",43211900.0,Computer displays,\"A display is a computer output surface or a screen and a projecting mechanism that shows text and graphic images. In some computers, the display is packaged in a separate unit called a monitor. In notebook computers, the display is integrated into a unit. Also called video display terminals VDTs, a display uses a cathode ray tube (CRT), liquid crystal display (LCD), light-emitting diode, gas plasma, or other image projection technology.\",43211902.0,Liquid crystal display LCD panels or monitors,Flat panel diaplays are Liquid Crystal Display monitors.They use liquid displays instead of Cathod Ray guns.\n",
    "    out:\n",
    "        43000000 > 43210000 > 43211900 > 43211902\n",
    "        Information Technology Broadcasting and Telecommunications > Computer Equipment and Accessories > Computer displays > Liquid crystal display LCD panels or monitors\n",
    "    \"\"\"\n",
    "    d = data[data['Commodity'] == commodity_code]\n",
    "    cols_to_first_line = ['Segment','Family','Class','Commodity']\n",
    "    cols_to_second_line = ['Segment Title','Family Title','Class Title','Commodity Title']\n",
    "    cols_to_third_line = ['Segment Definition','Family Definition','Class Definition','Commodity Definition']\n",
    "    for i in range(len(d)):\n",
    "        print(f\"{d.iloc[i][cols_to_first_line[0]]} > {d.iloc[i][cols_to_first_line[1]]} > {d.iloc[i][cols_to_first_line[2]]} > {d.iloc[i][cols_to_first_line[3]]}\")\n",
    "        print(f\"{d.iloc[i][cols_to_second_line[0]]} > {d.iloc[i][cols_to_second_line[1]]} > {d.iloc[i][cols_to_second_line[2]]} > {d.iloc[i][cols_to_second_line[3]]}\")\n",
    "        print(f\"{d.iloc[i][cols_to_third_line[0]]} > {d.iloc[i][cols_to_third_line[1]]} > {d.iloc[i][cols_to_third_line[2]]} > {d.iloc[i][cols_to_third_line[3]]}\")\n",
    "\n"
   ]
  },
  {
   "cell_type": "markdown",
   "metadata": {},
   "source": [
    "### Vector Store"
   ]
  },
  {
   "cell_type": "code",
   "execution_count": null,
   "metadata": {},
   "outputs": [],
   "source": [
    "# Create Pinecone Vector Store to store embeddings\n",
    "from pinecone import Pinecone\n",
    "\n",
    "pc = Pinecone(api_key=\"pcsk_4GbJvr_HYNMj3xJ7xFJNWguGB1VifdeD7P3mX25YjsWuzkTxwTawFyxq5PrqjAnjQiHBQW\")"
   ]
  },
  {
   "cell_type": "code",
   "execution_count": null,
   "metadata": {},
   "outputs": [],
   "source": [
    "# Create index if not exists\n",
    "# from pinecone import ServerlessSpec\n",
    "# pc.create_index(\n",
    "#     name=\"unspsc-data\",\n",
    "#     dimension=1024,\n",
    "#     metric=\"dotproduct\",\n",
    "#     spec=ServerlessSpec(cloud=\"aws\", region=\"us-east-1\"),\n",
    "# )"
   ]
  },
  {
   "cell_type": "code",
   "execution_count": 23,
   "metadata": {},
   "outputs": [],
   "source": [
    "from llama_index.vector_stores.pinecone import PineconeVectorStore\n",
    "\n",
    "pinecone_index = pc.Index(\"unspsc-data\")\n",
    "vector_store = PineconeVectorStore(\n",
    "    pinecone_index=pinecone_index,\n",
    "    add_sparse_vector=True,\n",
    ")"
   ]
  },
  {
   "cell_type": "markdown",
   "metadata": {},
   "source": [
    "### Load and Process CSV Data as Document"
   ]
  },
  {
   "cell_type": "code",
   "execution_count": null,
   "metadata": {},
   "outputs": [],
   "source": [
    "csv_reader = PagedCSVReader()\n",
    "\n",
    "reader = SimpleDirectoryReader( \n",
    "    input_files=[file_path],\n",
    "    file_extractor= {\".csv\": csv_reader}\n",
    ")\n",
    "\n",
    "docs = reader.load_data()"
   ]
  },
  {
   "cell_type": "markdown",
   "metadata": {},
   "source": [
    "#### Ingestion Pipeline"
   ]
  },
  {
   "cell_type": "code",
   "execution_count": null,
   "metadata": {},
   "outputs": [],
   "source": [
    "pipeline = IngestionPipeline(\n",
    "    # vector_store=vector_store,\n",
    "    documents=docs\n",
    ")"
   ]
  },
  {
   "cell_type": "code",
   "execution_count": null,
   "metadata": {},
   "outputs": [],
   "source": [
    "nodes = pipeline.run(show_progress=True)"
   ]
  },
  {
   "cell_type": "code",
   "execution_count": null,
   "metadata": {},
   "outputs": [],
   "source": [
    "# By inserting nodes to vector store with manual push, we can access the nodes with embeddings, even if we get an error when pushing to vector store\n",
    "nodes_with_embeddings = [n for n in nodes if n.embedding is not None]\n",
    "if nodes_with_embeddings:\n",
    "    vector_store.add(nodes_with_embeddings)\n",
    "else:\n",
    "    print(\"No nodes with embeddings found\")"
   ]
  },
  {
   "cell_type": "markdown",
   "metadata": {},
   "source": [
    "### Vector Store Index"
   ]
  },
  {
   "cell_type": "code",
   "execution_count": 24,
   "metadata": {},
   "outputs": [],
   "source": [
    "from llama_index.core import VectorStoreIndex\n",
    "\n",
    "vector_store_index = VectorStoreIndex.from_vector_store(vector_store)"
   ]
  },
  {
   "cell_type": "code",
   "execution_count": 25,
   "metadata": {},
   "outputs": [],
   "source": [
    "from llama_index.core import PromptTemplate\n",
    "\n",
    "\n",
    "SYSTEM_PROMPT = \"\"\"You are a UNSPSC classification expert that strictly uses provided context. Follow these steps:\n",
    "\n",
    "1. CONTEXT ANALYSIS:\n",
    "- Thoroughly analyze provided UNSPSC code context\n",
    "- Identify hierarchy levels: Segment > Family > Class > Commodity\n",
    "\n",
    "2. Output Format should be in JSON format:\n",
    "Example of Success Response:\n",
    "{\n",
    "    \"success\": true,\n",
    "    \"unspsc_code\": {code},\n",
    "    \"hierarchy\": [\n",
    "        {\n",
    "            \"segment_code\": {segment_code},\n",
    "            \"segment_name\": {segment_name}\n",
    "        },\n",
    "        {\n",
    "            \"family_code\": {family_code},\n",
    "            \"family_name\": {family_name}\n",
    "        },\n",
    "        {\n",
    "            \"class_code\": {class_code},\n",
    "            \"class_name\": {class_name}\n",
    "        },\n",
    "        {\n",
    "            \"commodity_code\": {commodity_code},\n",
    "            \"commodity_name\": {commodity_name}\n",
    "        }\n",
    "    ],\n",
    "    \"description\": {description},\n",
    "    \"enriched_description\": {enriched_description}\n",
    "}\n",
    "Or Failure Response:\n",
    "{\n",
    "    \"success\": false,\n",
    "    \"error\": \"I couldn't find a matching UNSPSC code.\",\n",
    "    \"error_reason\": \"The product description does not match any of the UNSPSC codes in the context.\",\n",
    "}\n",
    "\"\"\"\n",
    "# 2. DESCRIPTION ENRICHMENT:\n",
    "# - Expand product description using context terms\n",
    "# - Maintain original meaning\n",
    "# - Add technical/synonym terms from context\n",
    "\n",
    "# 3. CLASSIFICATION:\n",
    "# - Search for EXACT match in this order: Commodity > Class > Family > Segment\n",
    "# - NEVER invent codes not in context\n",
    "# - If no match, return enriched description\n",
    "\n",
    "# 4. OUTPUT FORMAT:\n",
    "# [SUCCESS RESPONSE]\n",
    "# UNSPSC Code: {code}\n",
    "# Hierarchy:\n",
    "# - Segment {segment_code}: {segment_name}\n",
    "# - Family {family_code}: {family_name}\n",
    "# - Class {class_code}: {class_name}\n",
    "# - Commodity {commodity_code}: {commodity_name}\n",
    "\n",
    "# [FAILURE RESPONSE]\n",
    "# I couldn't find a matching UNSPSC code.\n",
    "# Enriched Description: {enriched_description}\n",
    "# Please try with this enriched version.\n",
    "\n",
    "# 5. SAFETY:\n",
    "# - If uncertain, default to failure response\n",
    "# - Never guess codes\n",
    "# - Flag ambiguous cases\n",
    "# \"\"\"\n",
    "\n",
    "query_wrapper_prompt = PromptTemplate(\n",
    "    \"[INST]<<SYS>>\\n\" + SYSTEM_PROMPT + \"<</SYS>>\\n\\n{query_str}[/INST] \"\n",
    ")\n"
   ]
  },
  {
   "cell_type": "code",
   "execution_count": 26,
   "metadata": {},
   "outputs": [],
   "source": [
    "# Ollama LLM\n",
    "from llama_index.llms.ollama import Ollama\n",
    "\n",
    "llm = Ollama(\n",
    "    model=\"llama3.1:8b\",\n",
    "    temperature=0.7,\n",
    "    max_tokens=512,\n",
    "    context_window=4096,\n",
    "    request_timeout=300.0,\n",
    "    system_prompt=SYSTEM_PROMPT,\n",
    ")\n"
   ]
  },
  {
   "cell_type": "code",
   "execution_count": null,
   "metadata": {},
   "outputs": [],
   "source": [
    "# from llama_index.llms.openrouter import OpenRouter\n",
    "\n",
    "# # OpenRouter LLM\n",
    "# llm = OpenRouter(\n",
    "#     api_key=\"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\",\n",
    "#     max_tokens=512,\n",
    "#     context_window=4096,\n",
    "#     temperature=0.7,\n",
    "#     # model=\"cognitivecomputations/dolphin3.0-r1-mistral-24b:free\",\n",
    "#     model=\"deepseek/deepseek-r1:free\",\n",
    "#     query_wrapper_prompt=query_wrapper_prompt,\n",
    "#     # system_prompt=SYSTEM_PROMPT # ? do we need this?\n",
    "# )"
   ]
  },
  {
   "cell_type": "code",
   "execution_count": null,
   "metadata": {},
   "outputs": [],
   "source": [
    "from llama_index.llms.groq import Groq\n",
    "\n",
    "# OpenRouter LLM\n",
    "llm = Groq(\n",
    "    api_key=\"API_KEY\",\n",
    "    max_tokens=512,\n",
    "    context_window=4096,\n",
    "    temperature=0,\n",
    "    # model=\"cognitivecomputations/dolphin3.0-r1-mistral-24b:free\",\n",
    "    model=\"llama-3.3-70b-versatile\",\n",
    "    query_wrapper_prompt=query_wrapper_prompt,\n",
    "    system_prompt=SYSTEM_PROMPT # ? do we need this?\n",
    ")"
   ]
  },
  {
   "cell_type": "code",
   "execution_count": null,
   "metadata": {},
   "outputs": [],
   "source": [
    "from pydantic import BaseModel\n",
    "\n",
    "\n",
    "class UNSPSCResponse(BaseModel):\n",
    "    \"\"\"Data model for a UNSPSC response.\"\"\"\n",
    "\n",
    "    unspsc_code: str\n",
    "    hierarchy: list[dict[str, str]]\n",
    "    description: str\n",
    "    enriched_description: str\n",
    "    error: str\n",
    "    error_reason: str"
   ]
  },
  {
   "cell_type": "code",
   "execution_count": 27,
   "metadata": {},
   "outputs": [],
   "source": [
    "query=\"2-Inch Galvanized Steel Pipe Test Plug with Flange and Wing Nut Closure, Featuring Molded Rubber Gasket\""
   ]
  },
  {
   "cell_type": "code",
   "execution_count": 40,
   "metadata": {},
   "outputs": [],
   "source": [
    "query_engine = vector_store_index.as_query_engine(\n",
    "    similarity_top_k=3,\n",
    "    llm=llm,\n",
    "    verbose=False,\n",
    "    # response_model=UNSPSCResponse,\n",
    "    # response_model_kwargs={\"unspsc_code\": \"UNSPSC Code\", \"hierarchy\": \"Hierarchy\", \"description\": \"Description\"},\n",
    "    # response_mode=\"\"\n",
    ")"
   ]
  },
  {
   "cell_type": "markdown",
   "metadata": {},
   "source": [
    "### Query the rag bot with a question based on the CSV data"
   ]
  },
  {
   "cell_type": "code",
   "execution_count": 45,
   "metadata": {},
   "outputs": [],
   "source": [
    "# response = query_engine.query(\"What is the commodity code for 'Medical unit'\")\n",
    "# response = query_engine.query(\"inner diameter water separator cartridge for fuel applications, 98.7% efficient at up to 24 GPM flow rate, glass/paper element.\")\n",
    "response = query_engine.query(\"A cartridge filter-water separator for fuel\")\n"
   ]
  },
  {
   "cell_type": "code",
   "execution_count": 42,
   "metadata": {},
   "outputs": [],
   "source": [
    "response = query_engine.query(query)"
   ]
  },
  {
   "cell_type": "code",
   "execution_count": 46,
   "metadata": {},
   "outputs": [
    {
     "name": "stdout",
     "output_type": "stream",
     "text": [
      "{\n",
      "    \"success\": true,\n",
      "    \"unspsc_code\": \"25202600\",\n",
      "    \"hierarchy\": [\n",
      "        {\n",
      "            \"segment_code\": \"25000000\",\n",
      "            \"segment_name\": \"Vehicles and their Accessories and Components\"\n",
      "        },\n",
      "        {\n",
      "            \"family_code\": \"25200000\",\n",
      "            \"family_name\": \"Aerospace systems and components and equipment\"\n",
      "        },\n",
      "        {\n",
      "            \"class_code\": \"25202600\",\n",
      "            \"class_name\": \"Aircraft environmental control systems and components\"\n",
      "        },\n",
      "        {\n",
      "            \"commodity_code\": \"25202610\",\n",
      "            \"commodity_name\": \"Microfilters\"\n",
      "        }\n",
      "    ],\n",
      "    \"description\": \"Aircraft environmental control systems and components\",\n",
      "    \"enriched_description\": \"Microfilters are used as pre-filters for the efficient and continuous removal of solids such as rust, sand and other particulates from aviation fuels.\"\n",
      "}\n"
     ]
    }
   ],
   "source": [
    "print(response.response)"
   ]
  },
  {
   "cell_type": "code",
   "execution_count": 44,
   "metadata": {},
   "outputs": [
    {
     "name": "stdout",
     "output_type": "stream",
     "text": [
      "{\n",
      "    \"success\": true,\n",
      "    \"unspsc_code\": \"31402001\",\n",
      "    \"hierarchy\": [\n",
      "        {\n",
      "            \"segment_code\": \"31000000\",\n",
      "            \"segment_name\": \"Manufacturing Components and Supplies\"\n",
      "        },\n",
      "        {\n",
      "            \"family_code\": \"31400000\",\n",
      "            \"family_name\": \"Gaskets\"\n",
      "        },\n",
      "        {\n",
      "            \"class_code\": \"31402000\",\n",
      "            \"class_name\": \"Miscellaneous gaskets\"\n",
      "        },\n",
      "        {\n",
      "            \"commodity_code\": \"31402001\",\n",
      "            \"commodity_name\": \"General jointing gasket\"\n",
      "        }\n",
      "    ],\n",
      "    \"description\": \"A jointing gasket is a type of gasket that is used to provide a tight seal between two mating surfaces that have irregular or non-parallel surfaces.\",\n",
      "    \"enriched_description\": \"The given product, 2-Inch Galvanized Steel Pipe Test Plug with Flange and Wing Nut Closure, Featuring Molded Rubber Gasket, utilizes a molded rubber gasket to provide a tight seal, which aligns with the characteristics of a general jointing gasket.\"\n",
      "}\n"
     ]
    }
   ],
   "source": [
    "print(response.response)"
   ]
  },
  {
   "cell_type": "code",
   "execution_count": 32,
   "metadata": {},
   "outputs": [
    {
     "name": "stdout",
     "output_type": "stream",
     "text": [
      "{\n",
      "    \"success\": true,\n",
      "    \"unspsc_code\": {commodity_code},\n",
      "    \"hierarchy\": [\n",
      "        {\n",
      "            \"segment_code\": {segment_code},\n",
      "            \"segment_name\": {segment_name}\n",
      "        },\n",
      "        {\n",
      "            \"family_code\": {family_code},\n",
      "            \"family_name\": {family_name}\n",
      "        },\n",
      "        {\n",
      "            \"class_code\": {class_code},\n",
      "            \"class_name\": {class_name}\n",
      "        },\n",
      "        {\n",
      "            \"commodity_code\": {commodity_code},\n",
      "            \"commodity_name\": {commodity_name}\n",
      "        }\n",
      "    ],\n",
      "    \"description\": \"A filtering device used in fuel systems.\",\n",
      "    \"enriched_description\": \"The filtered water is removed from the fuel, preventing contamination.\"\n",
      "}\n",
      "{\n",
      "    \"hierarchy\": [\n",
      "        {\n",
      "            \"segment_code\": \"25000000\",\n",
      "            \"segment_name\": \"Vehicles and their Accessories and Components\"\n",
      "        },\n",
      "        {\n",
      "            \"family_code\": \"25200000\",\n",
      "            \"family_name\": \"Aerospace systems and components and equipment\"\n",
      "        },\n",
      "        {\n",
      "            \"class_code\": \"25202600\",\n",
      "            \"class_name\": \"Aircraft environmental control systems and components\"\n",
      "        },\n",
      "        {\n",
      "            \"commodity_code\": \"25202610\",\n",
      "            \"commodity_name\": \"Microfilters\"\n",
      "        }\n",
      "    ],\n",
      "    \"description\": \"Pre-filters for the removal of solids from aviation fuels.\",\n",
      "    \"enriched_description\": \"Used in refineries, terminals, and airport depots.\"\n",
      "}\n"
     ]
    }
   ],
   "source": [
    "print(response.response)"
   ]
  },
  {
   "cell_type": "markdown",
   "metadata": {},
   "source": [
    "'{\\n    \"success\": true,\\n    \"unspsc_code\": {\\n        \"segment_code\": \"43000000\",\\n        \"family_code\": \"43210000\",\\n        \"class_code\": \"43211900\",\\n        \"commodity_code\": \"43211905\"\\n    },\\n    \"hierarchy\": [\\n        {\\n            \"segment_code\": \"43000000\",\\n            \"segment_name\": \"Information Technology Broadcasting and Telecommunications\"\\n        },\\n        {\\n            \"family_code\": \"43210000\",\\n            \"family_name\": \"Computer Equipment and Accessories\"\\n        },\\n        {\\n            \"class_code\": \"43211900\",\\n            \"class_name\": \"Computer displays\"\\n        },\\n        {\\n            \"commodity_code\": \"43211905\",\\n            \"commodity_name\": \"Organic light emitting displays\"\\n        }\\n    ],\\n    \"description\": \"A display is a computer output surface or a screen and a projecting mechanism that shows text and graphic images.\",\\n    \"enriched_description\": \"An organic light emitting displau (OLED) is an electronic device made by placing a series of organic thin films between two conductors. When electrical current is applied, a bright light is emitted.\"\\n}'"
   ]
  },
  {
   "cell_type": "code",
   "execution_count": null,
   "metadata": {},
   "outputs": [],
   "source": [
    "show_hierarchy(40141771)\n",
    "show_hierarchy(40161513)\n",
    "\n",
    "# FILTER,CARTRIDGE: WATER SEPARATOR,FUEL,3.866IN ID,4.575IN OD,12.323IN LG,10U,22 TO 24 GPM,98.7%,GLASS/PAPER ELEMENT,1-1/4IN-12 UNS-2B SPIN-ON,SAE J1985,SIZE: 4.736IN OD SEAM,W/ GASKET\n"
   ]
  },
  {
   "cell_type": "code",
   "execution_count": null,
   "metadata": {},
   "outputs": [],
   "source": []
  },
  {
   "cell_type": "code",
   "execution_count": null,
   "metadata": {},
   "outputs": [],
   "source": []
  }
 ],
 "metadata": {
  "kernelspec": {
   "display_name": ".venv",
   "language": "python",
   "name": "python3"
  },
  "language_info": {
   "codemirror_mode": {
    "name": "ipython",
    "version": 3
   },
   "file_extension": ".py",
   "mimetype": "text/x-python",
   "name": "python",
   "nbconvert_exporter": "python",
   "pygments_lexer": "ipython3",
   "version": "3.13.1"
  }
 },
 "nbformat": 4,
 "nbformat_minor": 2
}
